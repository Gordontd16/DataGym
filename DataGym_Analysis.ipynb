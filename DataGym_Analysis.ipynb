{
 "cells": [
  {
   "cell_type": "markdown",
   "metadata": {},
   "source": [
    "# DataGym™ analysis\n",
    "## Part 1"
   ]
  },
  {
   "cell_type": "code",
   "execution_count": 1,
   "metadata": {},
   "outputs": [],
   "source": [
    "import numpy as np\n",
    "import pandas as pd\n",
    "\n",
    "import matplotlib.pyplot as plt\n",
    "import seaborn as sns\n",
    "\n",
    "from scipy.stats import chi2_contingency, kruskal, mannwhitneyu, spearmanr\n",
    "\n",
    "%matplotlib inline\n",
    "\n",
    "sns.set(rc={\n",
    "    'figure.figsize': (8, 6),\n",
    "    'font.size': 14\n",
    "})"
   ]
  },
  {
   "cell_type": "code",
   "execution_count": 2,
   "metadata": {},
   "outputs": [],
   "source": [
    "customers = pd.read_csv('datagym_customers.csv.gz')\n",
    "visits = pd.read_csv('datagym_visits.csv.gz')"
   ]
  },
  {
   "cell_type": "code",
   "execution_count": 3,
   "metadata": {},
   "outputs": [
    {
     "data": {
      "text/html": [
       "<div>\n",
       "<style scoped>\n",
       "    .dataframe tbody tr th:only-of-type {\n",
       "        vertical-align: middle;\n",
       "    }\n",
       "\n",
       "    .dataframe tbody tr th {\n",
       "        vertical-align: top;\n",
       "    }\n",
       "\n",
       "    .dataframe thead th {\n",
       "        text-align: right;\n",
       "    }\n",
       "</style>\n",
       "<table border=\"1\" class=\"dataframe\">\n",
       "  <thead>\n",
       "    <tr style=\"text-align: right;\">\n",
       "      <th></th>\n",
       "      <th>customer_id</th>\n",
       "      <th>city</th>\n",
       "      <th>sex</th>\n",
       "      <th>date_birth</th>\n",
       "      <th>date_join</th>\n",
       "      <th>date_quit</th>\n",
       "      <th>q1</th>\n",
       "      <th>q2</th>\n",
       "      <th>q3</th>\n",
       "      <th>q4</th>\n",
       "      <th>q5</th>\n",
       "    </tr>\n",
       "  </thead>\n",
       "  <tbody>\n",
       "    <tr>\n",
       "      <th>0</th>\n",
       "      <td>DG000049</td>\n",
       "      <td>Sheffield</td>\n",
       "      <td>F</td>\n",
       "      <td>1980-07-24</td>\n",
       "      <td>2017-04-19</td>\n",
       "      <td>NaN</td>\n",
       "      <td>NaN</td>\n",
       "      <td>NaN</td>\n",
       "      <td>NaN</td>\n",
       "      <td>NaN</td>\n",
       "      <td>NaN</td>\n",
       "    </tr>\n",
       "    <tr>\n",
       "      <th>1</th>\n",
       "      <td>DG000272</td>\n",
       "      <td>Manchester</td>\n",
       "      <td>F</td>\n",
       "      <td>1983-09-24</td>\n",
       "      <td>2013-03-21</td>\n",
       "      <td>2015-10-26</td>\n",
       "      <td>4.0</td>\n",
       "      <td>-1.0</td>\n",
       "      <td>5.0</td>\n",
       "      <td>10.0</td>\n",
       "      <td>3.0</td>\n",
       "    </tr>\n",
       "    <tr>\n",
       "      <th>2</th>\n",
       "      <td>DG000325</td>\n",
       "      <td>Liverpool</td>\n",
       "      <td>M</td>\n",
       "      <td>1987-09-15</td>\n",
       "      <td>2011-09-21</td>\n",
       "      <td>NaN</td>\n",
       "      <td>NaN</td>\n",
       "      <td>NaN</td>\n",
       "      <td>NaN</td>\n",
       "      <td>NaN</td>\n",
       "      <td>NaN</td>\n",
       "    </tr>\n",
       "    <tr>\n",
       "      <th>3</th>\n",
       "      <td>DG000481</td>\n",
       "      <td>London</td>\n",
       "      <td>M</td>\n",
       "      <td>1974-05-31</td>\n",
       "      <td>2017-06-18</td>\n",
       "      <td>NaN</td>\n",
       "      <td>NaN</td>\n",
       "      <td>NaN</td>\n",
       "      <td>NaN</td>\n",
       "      <td>NaN</td>\n",
       "      <td>NaN</td>\n",
       "    </tr>\n",
       "    <tr>\n",
       "      <th>4</th>\n",
       "      <td>DG000537</td>\n",
       "      <td>Glasgow</td>\n",
       "      <td>M</td>\n",
       "      <td>1986-11-25</td>\n",
       "      <td>2015-06-27</td>\n",
       "      <td>NaN</td>\n",
       "      <td>NaN</td>\n",
       "      <td>NaN</td>\n",
       "      <td>NaN</td>\n",
       "      <td>NaN</td>\n",
       "      <td>NaN</td>\n",
       "    </tr>\n",
       "  </tbody>\n",
       "</table>\n",
       "</div>"
      ],
      "text/plain": [
       "  customer_id        city sex  date_birth   date_join   date_quit   q1   q2  \\\n",
       "0    DG000049   Sheffield   F  1980-07-24  2017-04-19         NaN  NaN  NaN   \n",
       "1    DG000272  Manchester   F  1983-09-24  2013-03-21  2015-10-26  4.0 -1.0   \n",
       "2    DG000325   Liverpool   M  1987-09-15  2011-09-21         NaN  NaN  NaN   \n",
       "3    DG000481      London   M  1974-05-31  2017-06-18         NaN  NaN  NaN   \n",
       "4    DG000537     Glasgow   M  1986-11-25  2015-06-27         NaN  NaN  NaN   \n",
       "\n",
       "    q3    q4   q5  \n",
       "0  NaN   NaN  NaN  \n",
       "1  5.0  10.0  3.0  \n",
       "2  NaN   NaN  NaN  \n",
       "3  NaN   NaN  NaN  \n",
       "4  NaN   NaN  NaN  "
      ]
     },
     "execution_count": 3,
     "metadata": {},
     "output_type": "execute_result"
    }
   ],
   "source": [
    "customers.head()"
   ]
  },
  {
   "cell_type": "code",
   "execution_count": 4,
   "metadata": {},
   "outputs": [
    {
     "data": {
      "text/html": [
       "<div>\n",
       "<style scoped>\n",
       "    .dataframe tbody tr th:only-of-type {\n",
       "        vertical-align: middle;\n",
       "    }\n",
       "\n",
       "    .dataframe tbody tr th {\n",
       "        vertical-align: top;\n",
       "    }\n",
       "\n",
       "    .dataframe thead th {\n",
       "        text-align: right;\n",
       "    }\n",
       "</style>\n",
       "<table border=\"1\" class=\"dataframe\">\n",
       "  <thead>\n",
       "    <tr style=\"text-align: right;\">\n",
       "      <th></th>\n",
       "      <th>customer_id</th>\n",
       "      <th>date</th>\n",
       "    </tr>\n",
       "  </thead>\n",
       "  <tbody>\n",
       "    <tr>\n",
       "      <th>0</th>\n",
       "      <td>DG000049</td>\n",
       "      <td>2017-04-19T09:57:01Z</td>\n",
       "    </tr>\n",
       "    <tr>\n",
       "      <th>1</th>\n",
       "      <td>DG000049</td>\n",
       "      <td>2017-04-23T11:08:06Z</td>\n",
       "    </tr>\n",
       "    <tr>\n",
       "      <th>2</th>\n",
       "      <td>DG000049</td>\n",
       "      <td>2017-04-25T07:44:24Z</td>\n",
       "    </tr>\n",
       "    <tr>\n",
       "      <th>3</th>\n",
       "      <td>DG000049</td>\n",
       "      <td>2017-04-28T08:59:50Z</td>\n",
       "    </tr>\n",
       "    <tr>\n",
       "      <th>4</th>\n",
       "      <td>DG000049</td>\n",
       "      <td>2017-05-01T08:54:36Z</td>\n",
       "    </tr>\n",
       "  </tbody>\n",
       "</table>\n",
       "</div>"
      ],
      "text/plain": [
       "  customer_id                  date\n",
       "0    DG000049  2017-04-19T09:57:01Z\n",
       "1    DG000049  2017-04-23T11:08:06Z\n",
       "2    DG000049  2017-04-25T07:44:24Z\n",
       "3    DG000049  2017-04-28T08:59:50Z\n",
       "4    DG000049  2017-05-01T08:54:36Z"
      ]
     },
     "execution_count": 4,
     "metadata": {},
     "output_type": "execute_result"
    }
   ],
   "source": [
    "visits.head()"
   ]
  },
  {
   "cell_type": "code",
   "execution_count": 6,
   "metadata": {},
   "outputs": [],
   "source": [
    "visits['date'] = pd.to_datetime(visits.date)"
   ]
  },
  {
   "cell_type": "code",
   "execution_count": 8,
   "metadata": {},
   "outputs": [
    {
     "data": {
      "text/plain": [
       "<matplotlib.axes._subplots.AxesSubplot at 0x7fb15b772f60>"
      ]
     },
     "execution_count": 8,
     "metadata": {},
     "output_type": "execute_result"
    },
    {
     "data": {
      "image/png": "[encoded data removed]",
      "text/plain": [
       "<matplotlib.figure.Figure at 0x7fb15b6677b8>"
      ]
     },
     "metadata": {},
     "output_type": "display_data"
    }
   ],
   "source": [
    "visits.set_index('date').resample('D')['customer_id'].nunique().plot.line()"
   ]
  },
  {
   "cell_type": "markdown",
   "metadata": {},
   "source": [
    "Set data types for `datetime` variables."
   ]
  },
  {
   "cell_type": "code",
   "execution_count": 3,
   "metadata": {
    "collapsed": true
   },
   "outputs": [],
   "source": [
    "customers['date_birth'] = pd.to_datetime(customers['date_birth'])\n",
    "customers['date_join'] = pd.to_datetime(customers['date_join'])\n",
    "customers['date_quit'] = pd.to_datetime(customers['date_quit'])"
   ]
  },
  {
   "cell_type": "markdown",
   "metadata": {},
   "source": [
    "Recode missing values in questionnaire answers."
   ]
  },
  {
   "cell_type": "code",
   "execution_count": 4,
   "metadata": {
    "collapsed": true
   },
   "outputs": [],
   "source": [
    "customers['q1'].replace(-1, np.NaN, inplace=True)\n",
    "customers['q2'].replace(-1, np.NaN, inplace=True)\n",
    "customers['q3'].replace(-1, np.NaN, inplace=True)\n",
    "customers['q4'].replace(-1, np.NaN, inplace=True)\n",
    "customers['q5'].replace(-1, np.NaN, inplace=True)"
   ]
  },
  {
   "cell_type": "markdown",
   "metadata": {},
   "source": [
    "## Descriptive statistics"
   ]
  },
  {
   "cell_type": "code",
   "execution_count": 5,
   "metadata": {},
   "outputs": [
    {
     "data": {
      "text/html": [
       "<div>\n",
       "<style>\n",
       "    .dataframe thead tr:only-child th {\n",
       "        text-align: right;\n",
       "    }\n",
       "\n",
       "    .dataframe thead th {\n",
       "        text-align: left;\n",
       "    }\n",
       "\n",
       "    .dataframe tbody tr th {\n",
       "        vertical-align: top;\n",
       "    }\n",
       "</style>\n",
       "<table border=\"1\" class=\"dataframe\">\n",
       "  <thead>\n",
       "    <tr style=\"text-align: right;\">\n",
       "      <th></th>\n",
       "      <th>customer_id</th>\n",
       "      <th>city</th>\n",
       "      <th>sex</th>\n",
       "      <th>date_birth</th>\n",
       "      <th>date_join</th>\n",
       "      <th>date_quit</th>\n",
       "      <th>q1</th>\n",
       "      <th>q2</th>\n",
       "      <th>q3</th>\n",
       "      <th>q4</th>\n",
       "      <th>q5</th>\n",
       "    </tr>\n",
       "  </thead>\n",
       "  <tbody>\n",
       "    <tr>\n",
       "      <th>0</th>\n",
       "      <td>DG000049</td>\n",
       "      <td>Sheffield</td>\n",
       "      <td>F</td>\n",
       "      <td>1980-07-24</td>\n",
       "      <td>2017-04-19</td>\n",
       "      <td>NaT</td>\n",
       "      <td>NaN</td>\n",
       "      <td>NaN</td>\n",
       "      <td>NaN</td>\n",
       "      <td>NaN</td>\n",
       "      <td>NaN</td>\n",
       "    </tr>\n",
       "    <tr>\n",
       "      <th>1</th>\n",
       "      <td>DG000272</td>\n",
       "      <td>Manchester</td>\n",
       "      <td>F</td>\n",
       "      <td>1983-09-24</td>\n",
       "      <td>2013-03-21</td>\n",
       "      <td>2015-10-26</td>\n",
       "      <td>4.0</td>\n",
       "      <td>NaN</td>\n",
       "      <td>5.0</td>\n",
       "      <td>10.0</td>\n",
       "      <td>3.0</td>\n",
       "    </tr>\n",
       "    <tr>\n",
       "      <th>2</th>\n",
       "      <td>DG000325</td>\n",
       "      <td>Liverpool</td>\n",
       "      <td>M</td>\n",
       "      <td>1987-09-15</td>\n",
       "      <td>2011-09-21</td>\n",
       "      <td>NaT</td>\n",
       "      <td>NaN</td>\n",
       "      <td>NaN</td>\n",
       "      <td>NaN</td>\n",
       "      <td>NaN</td>\n",
       "      <td>NaN</td>\n",
       "    </tr>\n",
       "    <tr>\n",
       "      <th>3</th>\n",
       "      <td>DG000481</td>\n",
       "      <td>London</td>\n",
       "      <td>M</td>\n",
       "      <td>1974-05-31</td>\n",
       "      <td>2017-06-18</td>\n",
       "      <td>NaT</td>\n",
       "      <td>NaN</td>\n",
       "      <td>NaN</td>\n",
       "      <td>NaN</td>\n",
       "      <td>NaN</td>\n",
       "      <td>NaN</td>\n",
       "    </tr>\n",
       "    <tr>\n",
       "      <th>4</th>\n",
       "      <td>DG000537</td>\n",
       "      <td>Glasgow</td>\n",
       "      <td>M</td>\n",
       "      <td>1986-11-25</td>\n",
       "      <td>2015-06-27</td>\n",
       "      <td>NaT</td>\n",
       "      <td>NaN</td>\n",
       "      <td>NaN</td>\n",
       "      <td>NaN</td>\n",
       "      <td>NaN</td>\n",
       "      <td>NaN</td>\n",
       "    </tr>\n",
       "  </tbody>\n",
       "</table>\n",
       "</div>"
      ],
      "text/plain": [
       "  customer_id        city sex date_birth  date_join  date_quit   q1  q2   q3  \\\n",
       "0    DG000049   Sheffield   F 1980-07-24 2017-04-19        NaT  NaN NaN  NaN   \n",
       "1    DG000272  Manchester   F 1983-09-24 2013-03-21 2015-10-26  4.0 NaN  5.0   \n",
       "2    DG000325   Liverpool   M 1987-09-15 2011-09-21        NaT  NaN NaN  NaN   \n",
       "3    DG000481      London   M 1974-05-31 2017-06-18        NaT  NaN NaN  NaN   \n",
       "4    DG000537     Glasgow   M 1986-11-25 2015-06-27        NaT  NaN NaN  NaN   \n",
       "\n",
       "     q4   q5  \n",
       "0   NaN  NaN  \n",
       "1  10.0  3.0  \n",
       "2   NaN  NaN  \n",
       "3   NaN  NaN  \n",
       "4   NaN  NaN  "
      ]
     },
     "execution_count": 5,
     "metadata": {},
     "output_type": "execute_result"
    }
   ],
   "source": [
    "customers.head()"
   ]
  },
  {
   "cell_type": "markdown",
   "metadata": {},
   "source": [
    "Create new variable for 'quitters'."
   ]
  },
  {
   "cell_type": "code",
   "execution_count": 6,
   "metadata": {
    "collapsed": true
   },
   "outputs": [],
   "source": [
    "customers['quitter'] = customers['date_quit'].notnull()"
   ]
  },
  {
   "cell_type": "markdown",
   "metadata": {},
   "source": [
    "### Are there differences by city?"
   ]
  },
  {
   "cell_type": "code",
   "execution_count": 7,
   "metadata": {},
   "outputs": [
    {
     "data": {
      "text/plain": [
       "London                 2094\n",
       "Birmingham             1130\n",
       "Manchester             1048\n",
       "Leeds                   921\n",
       "Glasgow                 706\n",
       "Liverpool               649\n",
       "Sheffield               630\n",
       "Southampton             614\n",
       "Newcastle upon Tyne     606\n",
       "Nottingham              537\n",
       "Name: city, dtype: int64"
      ]
     },
     "execution_count": 7,
     "metadata": {},
     "output_type": "execute_result"
    }
   ],
   "source": [
    "customers['city'].value_counts()"
   ]
  },
  {
   "cell_type": "code",
   "execution_count": 8,
   "metadata": {},
   "outputs": [
    {
     "data": {
      "text/html": [
       "<div>\n",
       "<style>\n",
       "    .dataframe thead tr:only-child th {\n",
       "        text-align: right;\n",
       "    }\n",
       "\n",
       "    .dataframe thead th {\n",
       "        text-align: left;\n",
       "    }\n",
       "\n",
       "    .dataframe tbody tr th {\n",
       "        vertical-align: top;\n",
       "    }\n",
       "</style>\n",
       "<table border=\"1\" class=\"dataframe\">\n",
       "  <thead>\n",
       "    <tr style=\"text-align: right;\">\n",
       "      <th>quitter</th>\n",
       "      <th>False</th>\n",
       "      <th>True</th>\n",
       "    </tr>\n",
       "    <tr>\n",
       "      <th>city</th>\n",
       "      <th></th>\n",
       "      <th></th>\n",
       "    </tr>\n",
       "  </thead>\n",
       "  <tbody>\n",
       "    <tr>\n",
       "      <th>Birmingham</th>\n",
       "      <td>0.569912</td>\n",
       "      <td>0.430088</td>\n",
       "    </tr>\n",
       "    <tr>\n",
       "      <th>Glasgow</th>\n",
       "      <td>0.495751</td>\n",
       "      <td>0.504249</td>\n",
       "    </tr>\n",
       "    <tr>\n",
       "      <th>Leeds</th>\n",
       "      <td>0.496200</td>\n",
       "      <td>0.503800</td>\n",
       "    </tr>\n",
       "    <tr>\n",
       "      <th>Liverpool</th>\n",
       "      <td>0.497689</td>\n",
       "      <td>0.502311</td>\n",
       "    </tr>\n",
       "    <tr>\n",
       "      <th>London</th>\n",
       "      <td>0.480898</td>\n",
       "      <td>0.519102</td>\n",
       "    </tr>\n",
       "    <tr>\n",
       "      <th>Manchester</th>\n",
       "      <td>0.545802</td>\n",
       "      <td>0.454198</td>\n",
       "    </tr>\n",
       "    <tr>\n",
       "      <th>Newcastle upon Tyne</th>\n",
       "      <td>0.519802</td>\n",
       "      <td>0.480198</td>\n",
       "    </tr>\n",
       "    <tr>\n",
       "      <th>Nottingham</th>\n",
       "      <td>0.510242</td>\n",
       "      <td>0.489758</td>\n",
       "    </tr>\n",
       "    <tr>\n",
       "      <th>Sheffield</th>\n",
       "      <td>0.520635</td>\n",
       "      <td>0.479365</td>\n",
       "    </tr>\n",
       "    <tr>\n",
       "      <th>Southampton</th>\n",
       "      <td>0.511401</td>\n",
       "      <td>0.488599</td>\n",
       "    </tr>\n",
       "  </tbody>\n",
       "</table>\n",
       "</div>"
      ],
      "text/plain": [
       "quitter                 False     True \n",
       "city                                   \n",
       "Birmingham           0.569912  0.430088\n",
       "Glasgow              0.495751  0.504249\n",
       "Leeds                0.496200  0.503800\n",
       "Liverpool            0.497689  0.502311\n",
       "London               0.480898  0.519102\n",
       "Manchester           0.545802  0.454198\n",
       "Newcastle upon Tyne  0.519802  0.480198\n",
       "Nottingham           0.510242  0.489758\n",
       "Sheffield            0.520635  0.479365\n",
       "Southampton          0.511401  0.488599"
      ]
     },
     "execution_count": 8,
     "metadata": {},
     "output_type": "execute_result"
    }
   ],
   "source": [
    "pd.crosstab(customers['city'], customers['quitter'], normalize='index')"
   ]
  },
  {
   "cell_type": "code",
   "execution_count": 9,
   "metadata": {},
   "outputs": [
    {
     "data": {
      "text/plain": [
       "<matplotlib.axes._subplots.AxesSubplot at 0x7f00cb105160>"
      ]
     },
     "execution_count": 9,
     "metadata": {},
     "output_type": "execute_result"
    },
    {
     "data": {
      "image/png": "[encoded data removed]",
      "text/plain": [
       "<matplotlib.figure.Figure at 0x7f00cb0959b0>"
      ]
     },
     "metadata": {},
     "output_type": "display_data"
    }
   ],
   "source": [
    "pd.crosstab(customers['city'], customers['quitter'], normalize='index').sort_values(False).plot.bar(stacked=True)"
   ]
  },
  {
   "cell_type": "markdown",
   "metadata": {},
   "source": [
    "Test differences using $\\chi^{2}$ test."
   ]
  },
  {
   "cell_type": "code",
   "execution_count": 10,
   "metadata": {},
   "outputs": [
    {
     "data": {
      "text/plain": [
       "(30.573194235176484,\n",
       " 0.00035029091118056271,\n",
       " 9,\n",
       " array([[  579.73363179,   550.26636821],\n",
       "        [  362.20526021,   343.79473979],\n",
       "        [  472.50856184,   448.49143816],\n",
       "        [  332.96205932,   316.03794068],\n",
       "        [ 1074.30285395,  1019.69714605],\n",
       "        [  537.66446558,   510.33553442],\n",
       "        [  310.90139899,   295.09860101],\n",
       "        [  275.50173475,   261.49826525],\n",
       "        [  323.21432569,   306.78567431],\n",
       "        [  315.00570789,   298.99429211]]))"
      ]
     },
     "execution_count": 10,
     "metadata": {},
     "output_type": "execute_result"
    }
   ],
   "source": [
    "chi2_contingency(pd.crosstab(customers['city'], customers['quitter']))"
   ]
  },
  {
   "cell_type": "markdown",
   "metadata": {},
   "source": [
    "**Conclusion**: some evidence that certain cities have more quitters."
   ]
  },
  {
   "cell_type": "markdown",
   "metadata": {},
   "source": [
    "### Are there differences by sex?"
   ]
  },
  {
   "cell_type": "code",
   "execution_count": 11,
   "metadata": {},
   "outputs": [
    {
     "data": {
      "text/plain": [
       "F    5156\n",
       "M    3779\n",
       "Name: sex, dtype: int64"
      ]
     },
     "execution_count": 11,
     "metadata": {},
     "output_type": "execute_result"
    }
   ],
   "source": [
    "customers['sex'].value_counts()"
   ]
  },
  {
   "cell_type": "code",
   "execution_count": 12,
   "metadata": {},
   "outputs": [
    {
     "data": {
      "text/html": [
       "<div>\n",
       "<style>\n",
       "    .dataframe thead tr:only-child th {\n",
       "        text-align: right;\n",
       "    }\n",
       "\n",
       "    .dataframe thead th {\n",
       "        text-align: left;\n",
       "    }\n",
       "\n",
       "    .dataframe tbody tr th {\n",
       "        vertical-align: top;\n",
       "    }\n",
       "</style>\n",
       "<table border=\"1\" class=\"dataframe\">\n",
       "  <thead>\n",
       "    <tr style=\"text-align: right;\">\n",
       "      <th>quitter</th>\n",
       "      <th>False</th>\n",
       "      <th>True</th>\n",
       "    </tr>\n",
       "    <tr>\n",
       "      <th>sex</th>\n",
       "      <th></th>\n",
       "      <th></th>\n",
       "    </tr>\n",
       "  </thead>\n",
       "  <tbody>\n",
       "    <tr>\n",
       "      <th>F</th>\n",
       "      <td>0.512413</td>\n",
       "      <td>0.487587</td>\n",
       "    </tr>\n",
       "    <tr>\n",
       "      <th>M</th>\n",
       "      <td>0.513893</td>\n",
       "      <td>0.486107</td>\n",
       "    </tr>\n",
       "  </tbody>\n",
       "</table>\n",
       "</div>"
      ],
      "text/plain": [
       "quitter     False     True \n",
       "sex                        \n",
       "F        0.512413  0.487587\n",
       "M        0.513893  0.486107"
      ]
     },
     "execution_count": 12,
     "metadata": {},
     "output_type": "execute_result"
    }
   ],
   "source": [
    "pd.crosstab(customers['sex'], customers['quitter'], normalize='index')"
   ]
  },
  {
   "cell_type": "code",
   "execution_count": 13,
   "metadata": {},
   "outputs": [
    {
     "data": {
      "text/plain": [
       "<matplotlib.axes._subplots.AxesSubplot at 0x7f00cadc4f28>"
      ]
     },
     "execution_count": 13,
     "metadata": {},
     "output_type": "execute_result"
    },
    {
     "data": {
      "image/png": "[encoded data removed]",
      "text/plain": [
       "<matplotlib.figure.Figure at 0x7f00cae0ab38>"
      ]
     },
     "metadata": {},
     "output_type": "display_data"
    }
   ],
   "source": [
    "pd.crosstab(customers['sex'], customers['quitter'], normalize='index').plot.bar(stacked=True)"
   ]
  },
  {
   "cell_type": "markdown",
   "metadata": {},
   "source": [
    "Test differences using $\\chi^{2}$ test."
   ]
  },
  {
   "cell_type": "code",
   "execution_count": 14,
   "metadata": {},
   "outputs": [
    {
     "data": {
      "text/plain": [
       "(0.013650776852110719,\n",
       " 0.90698958807347663,\n",
       " 1,\n",
       " array([[ 2645.2270845,  2510.7729155],\n",
       "        [ 1938.7729155,  1840.2270845]]))"
      ]
     },
     "execution_count": 14,
     "metadata": {},
     "output_type": "execute_result"
    }
   ],
   "source": [
    "chi2_contingency(pd.crosstab(customers['sex'], customers['quitter']))"
   ]
  },
  {
   "cell_type": "markdown",
   "metadata": {},
   "source": [
    "**Conclusion**: no evidence that sex is related to the probability of quitting."
   ]
  },
  {
   "cell_type": "markdown",
   "metadata": {},
   "source": [
    "### Are there differences by age?"
   ]
  },
  {
   "cell_type": "code",
   "execution_count": 15,
   "metadata": {
    "collapsed": true
   },
   "outputs": [],
   "source": [
    "customers['age_join'] = (customers['date_join'] - customers['date_birth']).astype('timedelta64[Y]')"
   ]
  },
  {
   "cell_type": "code",
   "execution_count": 16,
   "metadata": {},
   "outputs": [
    {
     "data": {
      "text/plain": [
       "<matplotlib.axes._subplots.AxesSubplot at 0x7f00cad48438>"
      ]
     },
     "execution_count": 16,
     "metadata": {},
     "output_type": "execute_result"
    },
    {
     "data": {
      "image/png": "[encoded data removed]",
      "text/plain": [
       "<matplotlib.figure.Figure at 0x7f00cb4d9cc0>"
      ]
     },
     "metadata": {},
     "output_type": "display_data"
    }
   ],
   "source": [
    "sns.distplot(customers['age_join'])"
   ]
  },
  {
   "cell_type": "code",
   "execution_count": 17,
   "metadata": {},
   "outputs": [
    {
     "data": {
      "text/html": [
       "<div>\n",
       "<style>\n",
       "    .dataframe thead tr:only-child th {\n",
       "        text-align: right;\n",
       "    }\n",
       "\n",
       "    .dataframe thead th {\n",
       "        text-align: left;\n",
       "    }\n",
       "\n",
       "    .dataframe tbody tr th {\n",
       "        vertical-align: top;\n",
       "    }\n",
       "</style>\n",
       "<table border=\"1\" class=\"dataframe\">\n",
       "  <thead>\n",
       "    <tr style=\"text-align: right;\">\n",
       "      <th></th>\n",
       "      <th>count</th>\n",
       "      <th>mean</th>\n",
       "      <th>std</th>\n",
       "      <th>min</th>\n",
       "      <th>25%</th>\n",
       "      <th>50%</th>\n",
       "      <th>75%</th>\n",
       "      <th>max</th>\n",
       "    </tr>\n",
       "    <tr>\n",
       "      <th>quitter</th>\n",
       "      <th></th>\n",
       "      <th></th>\n",
       "      <th></th>\n",
       "      <th></th>\n",
       "      <th></th>\n",
       "      <th></th>\n",
       "      <th></th>\n",
       "      <th></th>\n",
       "    </tr>\n",
       "  </thead>\n",
       "  <tbody>\n",
       "    <tr>\n",
       "      <th>False</th>\n",
       "      <td>4584.0</td>\n",
       "      <td>32.58726</td>\n",
       "      <td>8.765113</td>\n",
       "      <td>16.0</td>\n",
       "      <td>27.0</td>\n",
       "      <td>31.0</td>\n",
       "      <td>37.0</td>\n",
       "      <td>77.0</td>\n",
       "    </tr>\n",
       "    <tr>\n",
       "      <th>True</th>\n",
       "      <td>4351.0</td>\n",
       "      <td>32.53413</td>\n",
       "      <td>9.101935</td>\n",
       "      <td>16.0</td>\n",
       "      <td>26.0</td>\n",
       "      <td>31.0</td>\n",
       "      <td>37.0</td>\n",
       "      <td>76.0</td>\n",
       "    </tr>\n",
       "  </tbody>\n",
       "</table>\n",
       "</div>"
      ],
      "text/plain": [
       "          count      mean       std   min   25%   50%   75%   max\n",
       "quitter                                                          \n",
       "False    4584.0  32.58726  8.765113  16.0  27.0  31.0  37.0  77.0\n",
       "True     4351.0  32.53413  9.101935  16.0  26.0  31.0  37.0  76.0"
      ]
     },
     "execution_count": 17,
     "metadata": {},
     "output_type": "execute_result"
    }
   ],
   "source": [
    "customers.groupby('quitter')['age_join'].describe()"
   ]
  },
  {
   "cell_type": "code",
   "execution_count": 18,
   "metadata": {},
   "outputs": [
    {
     "data": {
      "text/plain": [
       "<matplotlib.axes._subplots.AxesSubplot at 0x7f00cada1be0>"
      ]
     },
     "execution_count": 18,
     "metadata": {},
     "output_type": "execute_result"
    },
    {
     "data": {
      "image/png": "[encoded data removed]",
      "text/plain": [
       "<matplotlib.figure.Figure at 0x7f00cac94eb8>"
      ]
     },
     "metadata": {},
     "output_type": "display_data"
    }
   ],
   "source": [
    "sns.boxplot(x='quitter', y='age_join', data=customers)"
   ]
  },
  {
   "cell_type": "markdown",
   "metadata": {},
   "source": [
    "Test differences using Mann-Whitney $U$ test."
   ]
  },
  {
   "cell_type": "code",
   "execution_count": 19,
   "metadata": {},
   "outputs": [
    {
     "data": {
      "text/plain": [
       "MannwhitneyuResult(statistic=9862918.0, pvalue=0.18410271792398597)"
      ]
     },
     "execution_count": 19,
     "metadata": {},
     "output_type": "execute_result"
    }
   ],
   "source": [
    "mannwhitneyu(customers.loc[~customers['quitter'], 'age_join'], customers.loc[customers['quitter'], 'age_join'])"
   ]
  },
  {
   "cell_type": "markdown",
   "metadata": {},
   "source": [
    "**Conclusion**: no evidence that age at joining is related to the probability of quitting."
   ]
  },
  {
   "cell_type": "markdown",
   "metadata": {},
   "source": [
    "### Are there differences by date of quitting?"
   ]
  },
  {
   "cell_type": "code",
   "execution_count": 20,
   "metadata": {},
   "outputs": [
    {
     "data": {
      "text/plain": [
       "<matplotlib.axes._subplots.AxesSubplot at 0x7f00cabfb048>"
      ]
     },
     "execution_count": 20,
     "metadata": {},
     "output_type": "execute_result"
    },
    {
     "data": {
      "image/png": "[encoded data removed]",
      "text/plain": [
       "<matplotlib.figure.Figure at 0x7f00cab579e8>"
      ]
     },
     "metadata": {},
     "output_type": "display_data"
    }
   ],
   "source": [
    "quitters_by_month = customers.set_index('date_quit').resample('M')['quitter'].sum()\n",
    "quitters_by_month.plot.line()"
   ]
  },
  {
   "cell_type": "markdown",
   "metadata": {},
   "source": [
    "**Large** increase from mid-2016!\n",
    "Let's create a variable to signify the (presumed) change in management from mid-2016."
   ]
  },
  {
   "cell_type": "code",
   "execution_count": 21,
   "metadata": {
    "collapsed": true
   },
   "outputs": [],
   "source": [
    "customers['new_management'] = customers.date_quit >= pd.to_datetime('2016-07-02')"
   ]
  },
  {
   "cell_type": "markdown",
   "metadata": {},
   "source": [
    "### Are there differences in questionnaire answers?\n",
    "Since questionnaires are only available from quitters, we check for differences by city, sex, age at joining, date of quitting (old/new management), and duration."
   ]
  },
  {
   "cell_type": "code",
   "execution_count": 22,
   "metadata": {
    "collapsed": true
   },
   "outputs": [],
   "source": [
    "customers['duration'] = (customers['date_quit'] - customers['date_join']).astype('timedelta64[M]')"
   ]
  },
  {
   "cell_type": "code",
   "execution_count": 23,
   "metadata": {
    "collapsed": true
   },
   "outputs": [],
   "source": [
    "def test_questionnaire_answers(var_name):\n",
    "    results = {}\n",
    "    results['city'] = kruskal(*customers.groupby('city')[var_name].apply(list), nan_policy='omit')\n",
    "    results['sex'] = mannwhitneyu(customers.loc[customers['sex'] == 'M', var_name],\n",
    "                                  customers.loc[customers['sex'] == 'F', var_name])\n",
    "    results['age_join'] = spearmanr(customers[var_name], customers['age_join'], nan_policy='omit')\n",
    "    results['new_management'] = mannwhitneyu(customers.loc[~customers['new_management'], var_name],\n",
    "                                             customers.loc[customers['new_management'], var_name])\n",
    "    results['duration'] = spearmanr(customers[var_name], customers['duration'], nan_policy='omit')\n",
    "    return results"
   ]
  },
  {
   "cell_type": "markdown",
   "metadata": {},
   "source": [
    "### Q1: Overall service"
   ]
  },
  {
   "cell_type": "code",
   "execution_count": 24,
   "metadata": {},
   "outputs": [
    {
     "data": {
      "text/plain": [
       "{'age_join': SpearmanrResult(correlation=0.16433716340065907, pvalue=masked_array(data = 5.97696427647362e-20,\n",
       "             mask = False,\n",
       "       fill_value = 1e+20)\n",
       "),\n",
       " 'city': KruskalResult(statistic=1486.59185138883, pvalue=0.0),\n",
       " 'duration': SpearmanrResult(correlation=-0.067377858233078181, pvalue=masked_array(data = 0.00019297111234183801,\n",
       "             mask = False,\n",
       "       fill_value = 1e+20)\n",
       "),\n",
       " 'new_management': MannwhitneyuResult(statistic=2872817.5, pvalue=0.0),\n",
       " 'sex': MannwhitneyuResult(statistic=7611357.5, pvalue=1.9816929052035193e-70)}"
      ]
     },
     "execution_count": 24,
     "metadata": {},
     "output_type": "execute_result"
    }
   ],
   "source": [
    "test_questionnaire_answers('q1')"
   ]
  },
  {
   "cell_type": "markdown",
   "metadata": {},
   "source": [
    "### Q2: Maintenance and equipment"
   ]
  },
  {
   "cell_type": "code",
   "execution_count": 25,
   "metadata": {},
   "outputs": [
    {
     "data": {
      "text/plain": [
       "{'age_join': SpearmanrResult(correlation=0.029532323100122104, pvalue=masked_array(data = 0.10128210559132352,\n",
       "             mask = False,\n",
       "       fill_value = 1e+20)\n",
       "),\n",
       " 'city': KruskalResult(statistic=982.08613379456108, pvalue=1.2562619024255088e-205),\n",
       " 'duration': SpearmanrResult(correlation=0.068683874390868649, pvalue=masked_array(data = 0.00013631624329500961,\n",
       "             mask = False,\n",
       "       fill_value = 1e+20)\n",
       "),\n",
       " 'new_management': MannwhitneyuResult(statistic=2947657.5, pvalue=0.0),\n",
       " 'sex': MannwhitneyuResult(statistic=7576014.5, pvalue=9.3694821439045181e-73)}"
      ]
     },
     "execution_count": 25,
     "metadata": {},
     "output_type": "execute_result"
    }
   ],
   "source": [
    "test_questionnaire_answers('q2')"
   ]
  },
  {
   "cell_type": "markdown",
   "metadata": {},
   "source": [
    "### Q3: Cleanliness"
   ]
  },
  {
   "cell_type": "code",
   "execution_count": 26,
   "metadata": {},
   "outputs": [
    {
     "data": {
      "text/plain": [
       "{'age_join': SpearmanrResult(correlation=0.10149277978465965, pvalue=masked_array(data = 1.2660342946468774e-08,\n",
       "             mask = False,\n",
       "       fill_value = 1e+20)\n",
       "),\n",
       " 'city': KruskalResult(statistic=2419.7249379026821, pvalue=0.0),\n",
       " 'duration': SpearmanrResult(correlation=0.067760462439111158, pvalue=masked_array(data = 0.00014835880034764392,\n",
       "             mask = False,\n",
       "       fill_value = 1e+20)\n",
       "),\n",
       " 'new_management': MannwhitneyuResult(statistic=2658087.5, pvalue=0.0),\n",
       " 'sex': MannwhitneyuResult(statistic=7292117.0, pvalue=2.3696837811057799e-92)}"
      ]
     },
     "execution_count": 26,
     "metadata": {},
     "output_type": "execute_result"
    }
   ],
   "source": [
    "test_questionnaire_answers('q3')"
   ]
  },
  {
   "cell_type": "markdown",
   "metadata": {},
   "source": [
    "### Q4: Location"
   ]
  },
  {
   "cell_type": "code",
   "execution_count": 27,
   "metadata": {},
   "outputs": [
    {
     "data": {
      "text/plain": [
       "{'age_join': SpearmanrResult(correlation=0.14105628600008058, pvalue=masked_array(data = 4.363884622878389e-15,\n",
       "             mask = False,\n",
       "       fill_value = 1e+20)\n",
       "),\n",
       " 'city': KruskalResult(statistic=2865.4313355329132, pvalue=0.0),\n",
       " 'duration': SpearmanrResult(correlation=0.15304987028061767, pvalue=masked_array(data = 1.6148320177092172e-17,\n",
       "             mask = False,\n",
       "       fill_value = 1e+20)\n",
       "),\n",
       " 'new_management': MannwhitneyuResult(statistic=2936872.5, pvalue=0.0),\n",
       " 'sex': MannwhitneyuResult(statistic=7399751.0, pvalue=1.7830118262706361e-85)}"
      ]
     },
     "execution_count": 27,
     "metadata": {},
     "output_type": "execute_result"
    }
   ],
   "source": [
    "test_questionnaire_answers('q4')"
   ]
  },
  {
   "cell_type": "markdown",
   "metadata": {},
   "source": [
    "### Q5: Cannot find time to exercise"
   ]
  },
  {
   "cell_type": "code",
   "execution_count": 28,
   "metadata": {},
   "outputs": [
    {
     "data": {
      "text/plain": [
       "{'age_join': SpearmanrResult(correlation=-0.02714899685632699, pvalue=masked_array(data = 0.13266386676432873,\n",
       "             mask = False,\n",
       "       fill_value = 1e+20)\n",
       "),\n",
       " 'city': KruskalResult(statistic=303.95322660620485, pvalue=3.7846051426570698e-60),\n",
       " 'duration': SpearmanrResult(correlation=-0.28509920699143199, pvalue=masked_array(data = 1.7467465805943557e-58,\n",
       "             mask = False,\n",
       "       fill_value = 1e+20)\n",
       "),\n",
       " 'new_management': MannwhitneyuResult(statistic=2759365.5, pvalue=0.0),\n",
       " 'sex': MannwhitneyuResult(statistic=7867725.5, pvalue=5.0438583416262873e-55)}"
      ]
     },
     "execution_count": 28,
     "metadata": {},
     "output_type": "execute_result"
    }
   ],
   "source": [
    "test_questionnaire_answers('q5')"
   ]
  },
  {
   "cell_type": "markdown",
   "metadata": {},
   "source": [
    "#### How correlated are questionnaire answers?"
   ]
  },
  {
   "cell_type": "code",
   "execution_count": 29,
   "metadata": {},
   "outputs": [
    {
     "data": {
      "text/plain": [
       "<matplotlib.axes._subplots.AxesSubplot at 0x7f00caa52be0>"
      ]
     },
     "execution_count": 29,
     "metadata": {},
     "output_type": "execute_result"
    },
    {
     "data": {
      "image/png": "[encoded data removed]",
      "text/plain": [
       "<matplotlib.figure.Figure at 0x7f00caa524e0>"
      ]
     },
     "metadata": {},
     "output_type": "display_data"
    }
   ],
   "source": [
    "sns.heatmap(customers[['q1', 'q2', 'q3', 'q4', 'q5']].corr(), vmin=-1, vmax=1, center=0)"
   ]
  },
  {
   "cell_type": "markdown",
   "metadata": {},
   "source": [
    "**Conclusion**: first three questions mildly correlated with each other, last two quite uncorrelated with the rest."
   ]
  },
  {
   "cell_type": "markdown",
   "metadata": {},
   "source": [
    "## Conclusions\n",
    "* Preliminary analyses identified a few influential variables, including when the change in management most likely occurred.\n",
    "* Analysis of questionnaire data also identified a few changes following the (presumed) change in management.\n",
    "\n",
    "### Future analyses\n",
    "* Have a look at the 'visits' dataset, and derive new variables (e.g. frequency of visits during the first month after joining, or the first month following the change in management...)"
   ]
  }
 ],
 "metadata": {
  "kernelspec": {
   "display_name": "Python 3",
   "language": "python",
   "name": "python3"
  },
  "language_info": {
   "codemirror_mode": {
    "name": "ipython",
    "version": 3
   },
   "file_extension": ".py",
   "mimetype": "text/x-python",
   "name": "python",
   "nbconvert_exporter": "python",
   "pygments_lexer": "ipython3",
   "version": "3.6.4"
  }
 },
 "nbformat": 4,
 "nbformat_minor": 1
}
